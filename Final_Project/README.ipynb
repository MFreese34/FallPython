{
 "cells": [
  {
   "cell_type": "markdown",
   "metadata": {},
   "source": [
    "## Python 2 Final Project - State Park Statistics\n",
    "\n",
    "This project details statistics of the number of state parks within each state of the United States of America as well as other the facility available within each state park.\n",
    "\n",
    "Using the resources from www.gpsbasecamp.com, I was able to collect data for each state and all of the registered state parks within each state. I transferred the data into a csv file, calculated the average, maximum, minimum and total of the facility availability within each state park and then graphed line plots with markers for each facility.\n"
   ]
  }
 ],
 "metadata": {
  "kernelspec": {
   "display_name": "Python 3",
   "language": "python",
   "name": "python3"
  },
  "language_info": {
   "codemirror_mode": {
    "name": "ipython",
    "version": 3
   },
   "file_extension": ".py",
   "mimetype": "text/x-python",
   "name": "python",
   "nbconvert_exporter": "python",
   "pygments_lexer": "ipython3",
   "version": "3.6.5"
  }
 },
 "nbformat": 4,
 "nbformat_minor": 2
}
